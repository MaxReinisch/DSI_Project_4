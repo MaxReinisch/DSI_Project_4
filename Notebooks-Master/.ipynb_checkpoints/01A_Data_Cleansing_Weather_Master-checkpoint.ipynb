{
 "cells": [
  {
   "cell_type": "markdown",
   "metadata": {},
   "source": [
    "# 01A Data Cleansing Weather"
   ]
  },
  {
   "cell_type": "markdown",
   "metadata": {},
   "source": [
    "## Imports"
   ]
  },
  {
   "cell_type": "code",
   "execution_count": 119,
   "metadata": {},
   "outputs": [],
   "source": [
    "import pandas as pd\n",
    "import numpy as np\n",
    "import matplotlib.pyplot as plt\n",
    "import seaborn as sns\n",
    "import pickle\n",
    "%matplotlib inline"
   ]
  },
  {
   "cell_type": "markdown",
   "metadata": {},
   "source": [
    "## Read Data"
   ]
  },
  {
   "cell_type": "code",
   "execution_count": 120,
   "metadata": {},
   "outputs": [],
   "source": [
    "weather_df = pd.read_csv('../west_nile/west_nile/input/weather.csv')"
   ]
  },
  {
   "cell_type": "markdown",
   "metadata": {},
   "source": [
    "## One Hot Encode CodeSum Data"
   ]
  },
  {
   "cell_type": "code",
   "execution_count": 121,
   "metadata": {},
   "outputs": [],
   "source": [
    "codes = {code: [0]*weather_df.shape[0] for codes in weather_df.CodeSum.unique() for code in codes.split()}\n",
    "\n",
    "weather_df = weather_df.join(pd.DataFrame(codes))\n",
    "for i, codesum in enumerate(weather_df.CodeSum):\n",
    "    for code in codesum.split():\n",
    "        weather_df.at[i, code] = 1\n",
    "        \n",
    "codes_df = weather_df.groupby('Date', as_index=True)[list(codes.keys())].max()"
   ]
  },
  {
   "cell_type": "markdown",
   "metadata": {},
   "source": [
    "## Export codes_df"
   ]
  },
  {
   "cell_type": "code",
   "execution_count": 122,
   "metadata": {},
   "outputs": [],
   "source": [
    "with open('../Cleansed_Data/codes_df.pkl', 'wb') as f:\n",
    "    pickle.dump(codes_df, f)"
   ]
  },
  {
   "cell_type": "markdown",
   "metadata": {},
   "source": [
    "----------"
   ]
  },
  {
   "cell_type": "markdown",
   "metadata": {},
   "source": [
    "# New Weather Processing"
   ]
  },
  {
   "cell_type": "markdown",
   "metadata": {},
   "source": [
    "## Import weather data"
   ]
  },
  {
   "cell_type": "code",
   "execution_count": 123,
   "metadata": {},
   "outputs": [],
   "source": [
    "weather = pd.read_csv('../west_nile/west_nile/input/weather.csv')"
   ]
  },
  {
   "cell_type": "markdown",
   "metadata": {},
   "source": [
    "## Impute missing Tavg Values and Convert column to Int"
   ]
  },
  {
   "cell_type": "code",
   "execution_count": 124,
   "metadata": {},
   "outputs": [],
   "source": [
    "missing_Tavg = weather[weather.Tavg == 'M'].index\n",
    "\n",
    "weather.loc[missing_Tavg, 'Tavg'] = round((weather.loc[missing_Tavg, 'Tmax'] \n",
    "                                              + weather.loc[missing_Tavg, 'Tmin'])/2)\n",
    "weather.Tavg = weather.Tavg.astype(int)"
   ]
  },
  {
   "cell_type": "markdown",
   "metadata": {},
   "source": [
    "## Impute missing AvgSpeed and Convert column to float"
   ]
  },
  {
   "cell_type": "code",
   "execution_count": 125,
   "metadata": {},
   "outputs": [],
   "source": [
    "median_wind = weather[weather.AvgSpeed!='M'].AvgSpeed.median()\n",
    "weather.AvgSpeed.replace('M', median_wind, inplace=True)\n",
    "weather.AvgSpeed = weather.AvgSpeed.astype(float)"
   ]
  },
  {
   "cell_type": "markdown",
   "metadata": {},
   "source": [
    "## Create Temperature Columns in Celsius"
   ]
  },
  {
   "cell_type": "code",
   "execution_count": 126,
   "metadata": {},
   "outputs": [],
   "source": [
    "def celsius(x):\n",
    "    c = ((x - 32) * 5.0)/9.0\n",
    "    return float(c)"
   ]
  },
  {
   "cell_type": "code",
   "execution_count": 127,
   "metadata": {},
   "outputs": [],
   "source": [
    "weather['TavgC'] = weather['Tavg'].apply(celsius)\n",
    "weather['TminC'] = weather['Tmin'].apply(celsius)\n",
    "weather['TmaxC'] = weather['Tmax'].apply(celsius)"
   ]
  },
  {
   "cell_type": "markdown",
   "metadata": {},
   "source": [
    "## Calculate Relative Humidity"
   ]
  },
  {
   "cell_type": "code",
   "execution_count": 128,
   "metadata": {},
   "outputs": [],
   "source": [
    "weather['relative_humidity'] = 100 * (np.exp((17.625 * weather.DewPoint.apply(celsius)) / \n",
    "                                             (243.04 + weather.DewPoint.apply(celsius))) / \n",
    "                                      np.exp((17.625 * weather.Tavg.apply(celsius)) / \n",
    "                                             (243.04 + weather.Tavg.apply(celsius))))"
   ]
  },
  {
   "cell_type": "markdown",
   "metadata": {},
   "source": [
    "## Convert DewPoint to Celsius"
   ]
  },
  {
   "cell_type": "code",
   "execution_count": 129,
   "metadata": {},
   "outputs": [],
   "source": [
    "weather['DewPointC'] = weather['DewPoint'].apply(celsius)"
   ]
  },
  {
   "cell_type": "markdown",
   "metadata": {},
   "source": [
    "## Add rain boolean"
   ]
  },
  {
   "cell_type": "markdown",
   "metadata": {},
   "source": [
    "- TS THUNDERSTORM\n",
    "- GR HAIL\n",
    "- RA RAIN\n",
    "- DZ DRIZZLE\n",
    "- SH SHOWER"
   ]
  },
  {
   "cell_type": "code",
   "execution_count": 130,
   "metadata": {},
   "outputs": [],
   "source": [
    "def filter_codesum(x):\n",
    "    for code in rain:\n",
    "        if code in x:\n",
    "            return 1\n",
    "        else:\n",
    "            return 0"
   ]
  },
  {
   "cell_type": "code",
   "execution_count": 131,
   "metadata": {},
   "outputs": [],
   "source": [
    "rain = ['RA', 'DZ', 'SH', 'TS', 'GR']"
   ]
  },
  {
   "cell_type": "code",
   "execution_count": 132,
   "metadata": {},
   "outputs": [],
   "source": [
    "weather['rain'] = weather.CodeSum.apply(filter_codesum)"
   ]
  },
  {
   "cell_type": "markdown",
   "metadata": {},
   "source": [
    "## Add Ideal Environment boolean"
   ]
  },
  {
   "cell_type": "code",
   "execution_count": 133,
   "metadata": {},
   "outputs": [],
   "source": [
    "weather.loc[(weather['TavgC'] >= 10) & (weather['TavgC'] <= 35) & \n",
    "            (weather['relative_humidity'] <= 95) & (weather['relative_humidity'] >= 40) & \n",
    "            (weather['AvgSpeed'] <= 6), \n",
    "            'ideal_environment']=1\n",
    "\n",
    "weather.ideal_environment.fillna(0, inplace=True)"
   ]
  },
  {
   "cell_type": "markdown",
   "metadata": {},
   "source": [
    "## Add Ideal Feeding Conditions boolean"
   ]
  },
  {
   "cell_type": "code",
   "execution_count": 134,
   "metadata": {},
   "outputs": [],
   "source": [
    "weather.loc[(weather['TavgC'] >= 15) & (weather['TavgC'] <= 30) & \n",
    "            (weather['relative_humidity'] >= 8) & (weather['relative_humidity'] <= 72) & \n",
    "            (weather['AvgSpeed'] <= 6), \n",
    "            'ideal_feeding']=1\n",
    "\n",
    "weather.ideal_feeding.fillna(0, inplace=True)"
   ]
  },
  {
   "cell_type": "markdown",
   "metadata": {},
   "source": [
    "## Average values to drop station"
   ]
  },
  {
   "cell_type": "code",
   "execution_count": 135,
   "metadata": {},
   "outputs": [],
   "source": [
    "new_weather_df = weather.groupby('Date')['TavgC','TmaxC','TminC','DewPointC','relative_humidity',\n",
    "                                         'rain','ideal_environment','ideal_feeding'].mean()"
   ]
  },
  {
   "cell_type": "markdown",
   "metadata": {},
   "source": [
    "## Calculate Photoperiod"
   ]
  },
  {
   "cell_type": "code",
   "execution_count": 136,
   "metadata": {},
   "outputs": [],
   "source": [
    "sun = weather[weather.Station == 1][['Date','Sunset','Sunrise']]"
   ]
  },
  {
   "cell_type": "code",
   "execution_count": 137,
   "metadata": {},
   "outputs": [],
   "source": [
    "sun['sundiff'] = sun.apply(lambda x: int(x.Sunset) - int(x.Sunrise), axis=1)"
   ]
  },
  {
   "cell_type": "code",
   "execution_count": 138,
   "metadata": {},
   "outputs": [],
   "source": [
    "sun['photoperiod'] =sun.sundiff.map(lambda x: int(str(x)[:2]) + int(str(x)[-2:])/60)"
   ]
  },
  {
   "cell_type": "code",
   "execution_count": 139,
   "metadata": {},
   "outputs": [],
   "source": [
    "sun.index = sun.Date"
   ]
  },
  {
   "cell_type": "code",
   "execution_count": 140,
   "metadata": {},
   "outputs": [],
   "source": [
    "sun = sun.drop(['Date','Sunset','Sunrise','sundiff'], axis=1)"
   ]
  },
  {
   "cell_type": "markdown",
   "metadata": {},
   "source": [
    "## Join Photoperiod with new_weather_df"
   ]
  },
  {
   "cell_type": "code",
   "execution_count": 141,
   "metadata": {},
   "outputs": [],
   "source": [
    "new_weather_df['Date'] = new_weather_df.index"
   ]
  },
  {
   "cell_type": "code",
   "execution_count": 142,
   "metadata": {},
   "outputs": [],
   "source": [
    "new_weather_df = new_weather_df.join(sun, on='Date')"
   ]
  },
  {
   "cell_type": "code",
   "execution_count": 143,
   "metadata": {},
   "outputs": [],
   "source": [
    "new_weather_df = new_weather_df.drop(['Date'], axis=1)"
   ]
  },
  {
   "cell_type": "code",
   "execution_count": 144,
   "metadata": {},
   "outputs": [
    {
     "data": {
      "text/html": [
       "<div>\n",
       "<style scoped>\n",
       "    .dataframe tbody tr th:only-of-type {\n",
       "        vertical-align: middle;\n",
       "    }\n",
       "\n",
       "    .dataframe tbody tr th {\n",
       "        vertical-align: top;\n",
       "    }\n",
       "\n",
       "    .dataframe thead th {\n",
       "        text-align: right;\n",
       "    }\n",
       "</style>\n",
       "<table border=\"1\" class=\"dataframe\">\n",
       "  <thead>\n",
       "    <tr style=\"text-align: right;\">\n",
       "      <th></th>\n",
       "      <th>TavgC</th>\n",
       "      <th>TmaxC</th>\n",
       "      <th>TminC</th>\n",
       "      <th>DewPointC</th>\n",
       "      <th>relative_humidity</th>\n",
       "      <th>rain</th>\n",
       "      <th>ideal_environment</th>\n",
       "      <th>ideal_feeding</th>\n",
       "      <th>photoperiod</th>\n",
       "    </tr>\n",
       "    <tr>\n",
       "      <th>Date</th>\n",
       "      <th></th>\n",
       "      <th></th>\n",
       "      <th></th>\n",
       "      <th></th>\n",
       "      <th></th>\n",
       "      <th></th>\n",
       "      <th></th>\n",
       "      <th></th>\n",
       "      <th></th>\n",
       "    </tr>\n",
       "  </thead>\n",
       "  <tbody>\n",
       "    <tr>\n",
       "      <th>2007-05-01</th>\n",
       "      <td>19.722222</td>\n",
       "      <td>28.611111</td>\n",
       "      <td>10.555556</td>\n",
       "      <td>10.555556</td>\n",
       "      <td>55.482501</td>\n",
       "      <td>0.0</td>\n",
       "      <td>0.0</td>\n",
       "      <td>0.0</td>\n",
       "      <td>14.016667</td>\n",
       "    </tr>\n",
       "    <tr>\n",
       "      <th>2007-05-02</th>\n",
       "      <td>10.833333</td>\n",
       "      <td>15.277778</td>\n",
       "      <td>5.833333</td>\n",
       "      <td>5.555556</td>\n",
       "      <td>69.905385</td>\n",
       "      <td>0.0</td>\n",
       "      <td>0.0</td>\n",
       "      <td>0.0</td>\n",
       "      <td>14.050000</td>\n",
       "    </tr>\n",
       "    <tr>\n",
       "      <th>2007-05-03</th>\n",
       "      <td>13.888889</td>\n",
       "      <td>19.166667</td>\n",
       "      <td>8.333333</td>\n",
       "      <td>4.444444</td>\n",
       "      <td>52.966288</td>\n",
       "      <td>0.0</td>\n",
       "      <td>0.0</td>\n",
       "      <td>0.0</td>\n",
       "      <td>14.083333</td>\n",
       "    </tr>\n",
       "    <tr>\n",
       "      <th>2007-05-04</th>\n",
       "      <td>16.111111</td>\n",
       "      <td>22.222222</td>\n",
       "      <td>10.000000</td>\n",
       "      <td>5.277778</td>\n",
       "      <td>48.837189</td>\n",
       "      <td>0.5</td>\n",
       "      <td>0.0</td>\n",
       "      <td>0.0</td>\n",
       "      <td>14.133333</td>\n",
       "    </tr>\n",
       "    <tr>\n",
       "      <th>2007-05-05</th>\n",
       "      <td>15.555556</td>\n",
       "      <td>18.888889</td>\n",
       "      <td>11.944444</td>\n",
       "      <td>3.611111</td>\n",
       "      <td>44.842896</td>\n",
       "      <td>0.0</td>\n",
       "      <td>0.0</td>\n",
       "      <td>0.0</td>\n",
       "      <td>14.166667</td>\n",
       "    </tr>\n",
       "  </tbody>\n",
       "</table>\n",
       "</div>"
      ],
      "text/plain": [
       "                TavgC      TmaxC      TminC  DewPointC  relative_humidity  \\\n",
       "Date                                                                        \n",
       "2007-05-01  19.722222  28.611111  10.555556  10.555556          55.482501   \n",
       "2007-05-02  10.833333  15.277778   5.833333   5.555556          69.905385   \n",
       "2007-05-03  13.888889  19.166667   8.333333   4.444444          52.966288   \n",
       "2007-05-04  16.111111  22.222222  10.000000   5.277778          48.837189   \n",
       "2007-05-05  15.555556  18.888889  11.944444   3.611111          44.842896   \n",
       "\n",
       "            rain  ideal_environment  ideal_feeding  photoperiod  \n",
       "Date                                                             \n",
       "2007-05-01   0.0                0.0            0.0    14.016667  \n",
       "2007-05-02   0.0                0.0            0.0    14.050000  \n",
       "2007-05-03   0.0                0.0            0.0    14.083333  \n",
       "2007-05-04   0.5                0.0            0.0    14.133333  \n",
       "2007-05-05   0.0                0.0            0.0    14.166667  "
      ]
     },
     "execution_count": 144,
     "metadata": {},
     "output_type": "execute_result"
    }
   ],
   "source": [
    "new_weather_df.head()"
   ]
  },
  {
   "cell_type": "markdown",
   "metadata": {},
   "source": [
    "## Create Weather Features for Last 14 Days"
   ]
  },
  {
   "cell_type": "code",
   "execution_count": 145,
   "metadata": {},
   "outputs": [],
   "source": [
    "def time_machine(df, column, days, bc = 0):\n",
    "    new_df = df[[column]]\n",
    "    for i in range(1,days+1):\n",
    "        new_col_name = column + \"_\" + str(i) +\"_back\"\n",
    "        new_col = one_day_back(df, column, i, bc)\n",
    "        new_df[new_col_name] = new_col\n",
    "    new_df.drop(column, 1, inplace=True)\n",
    "    df = df.join(new_df)\n",
    "    return df\n",
    "\n",
    "def one_day_back(df, column, day, bc):\n",
    "    col = df[column].tolist()\n",
    "    for i in range(day):\n",
    "        del col[-1]\n",
    "        col.insert(0, bc)\n",
    "    return col"
   ]
  },
  {
   "cell_type": "code",
   "execution_count": 146,
   "metadata": {},
   "outputs": [
    {
     "data": {
      "text/plain": [
       "Index(['TavgC', 'TmaxC', 'TminC', 'DewPointC', 'relative_humidity', 'rain',\n",
       "       'ideal_environment', 'ideal_feeding', 'photoperiod'],\n",
       "      dtype='object')"
      ]
     },
     "execution_count": 146,
     "metadata": {},
     "output_type": "execute_result"
    }
   ],
   "source": [
    "new_weather_df.columns"
   ]
  },
  {
   "cell_type": "code",
   "execution_count": 147,
   "metadata": {
    "scrolled": false
   },
   "outputs": [
    {
     "name": "stderr",
     "output_type": "stream",
     "text": [
      "/Users/yibingchen/anaconda3/lib/python3.6/site-packages/ipykernel_launcher.py:6: SettingWithCopyWarning: \n",
      "A value is trying to be set on a copy of a slice from a DataFrame.\n",
      "Try using .loc[row_indexer,col_indexer] = value instead\n",
      "\n",
      "See the caveats in the documentation: http://pandas.pydata.org/pandas-docs/stable/indexing.html#indexing-view-versus-copy\n",
      "  \n",
      "/Users/yibingchen/anaconda3/lib/python3.6/site-packages/ipykernel_launcher.py:7: SettingWithCopyWarning: \n",
      "A value is trying to be set on a copy of a slice from a DataFrame\n",
      "\n",
      "See the caveats in the documentation: http://pandas.pydata.org/pandas-docs/stable/indexing.html#indexing-view-versus-copy\n",
      "  import sys\n"
     ]
    }
   ],
   "source": [
    "for col in new_weather_df.columns:\n",
    "    new_weather_df = time_machine(new_weather_df, col, 14)\n"
   ]
  },
  {
   "cell_type": "markdown",
   "metadata": {},
   "source": [
    "## Export new_weather_df"
   ]
  },
  {
   "cell_type": "code",
   "execution_count": 148,
   "metadata": {},
   "outputs": [],
   "source": [
    "with open('../Cleansed_Data/new_weather_df.pkl', 'wb') as f:\n",
    "    pickle.dump(new_weather_df, f)"
   ]
  }
 ],
 "metadata": {
  "kernelspec": {
   "display_name": "Python 3",
   "language": "python",
   "name": "python3"
  },
  "language_info": {
   "codemirror_mode": {
    "name": "ipython",
    "version": 3
   },
   "file_extension": ".py",
   "mimetype": "text/x-python",
   "name": "python",
   "nbconvert_exporter": "python",
   "pygments_lexer": "ipython3",
   "version": "3.6.4"
  }
 },
 "nbformat": 4,
 "nbformat_minor": 2
}
