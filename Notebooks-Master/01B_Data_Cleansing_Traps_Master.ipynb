{
 "cells": [
  {
   "cell_type": "markdown",
   "metadata": {},
   "source": [
    "# 01B Data Cleansing Traps"
   ]
  },
  {
   "cell_type": "markdown",
   "metadata": {},
   "source": [
    "## Imports"
   ]
  },
  {
   "cell_type": "code",
   "execution_count": 79,
   "metadata": {},
   "outputs": [],
   "source": [
    "import pandas as pd\n",
    "import numpy as np\n",
    "import matplotlib.pyplot as plt\n",
    "import seaborn as sns\n",
    "import pickle\n",
    "%matplotlib inline"
   ]
  },
  {
   "cell_type": "markdown",
   "metadata": {},
   "source": [
    "## Read Data"
   ]
  },
  {
   "cell_type": "code",
   "execution_count": 80,
   "metadata": {},
   "outputs": [],
   "source": [
    "df = pd.read_csv('../west_nile/west_nile/input/train.csv')"
   ]
  },
  {
   "cell_type": "markdown",
   "metadata": {},
   "source": [
    "## Read in codes_df and temperature_df"
   ]
  },
  {
   "cell_type": "code",
   "execution_count": 81,
   "metadata": {},
   "outputs": [
    {
     "name": "stdout",
     "output_type": "stream",
     "text": [
      "X.pkl              codes_df.pkl       temperature_df.pkl y.pkl\r\n"
     ]
    }
   ],
   "source": [
    "!ls ../Cleansed_Data/"
   ]
  },
  {
   "cell_type": "code",
   "execution_count": 82,
   "metadata": {},
   "outputs": [],
   "source": [
    "with open('../Cleansed_Data/codes_df.pkl', 'rb') as f:\n",
    "    codes_df = pickle.load(f)\n",
    "\n",
    "with open('../Cleansed_Data/temperature_df.pkl', 'rb') as f:\n",
    "    temperature_df = pickle.load(f)    "
   ]
  },
  {
   "cell_type": "markdown",
   "metadata": {},
   "source": [
    "## Calculate Total Mosquitos Per Trap\n",
    "- Fix this so we don't drop columns"
   ]
  },
  {
   "cell_type": "code",
   "execution_count": 83,
   "metadata": {},
   "outputs": [],
   "source": [
    "# cols = [col for col in df.columns if col not in ['NumMosquitos', 'WnvPresent']]\n",
    "# df = df.groupby(cols, as_index=False).sum()\n",
    "# df['WnvPresent'] = (df.WnvPresent>0).astype(int)"
   ]
  },
  {
   "cell_type": "markdown",
   "metadata": {},
   "source": [
    "## Join codes_df and temperature_df"
   ]
  },
  {
   "cell_type": "code",
   "execution_count": 84,
   "metadata": {},
   "outputs": [],
   "source": [
    "df = df.join(temperature_df, on='Date')\n",
    "df = df.join(codes_df, on='Date', rsuffix=\"_code_\")"
   ]
  },
  {
   "cell_type": "markdown",
   "metadata": {},
   "source": [
    "## Create boolean - WnvSpecies\n",
    "- Discussion - Should we make it like this, or split out by species?\n",
    "- I think we should set up the data for neural net?"
   ]
  },
  {
   "cell_type": "code",
   "execution_count": 85,
   "metadata": {},
   "outputs": [],
   "source": [
    "wnvspeciesmap = {\n",
    "    'CULEX PIPIENS/RESTUANS': 1,\n",
    "    'CULEX RESTUANS': 1,\n",
    "    'CULEX PIPIENS': 1,\n",
    "    'CULEX TERRITANS': 0,\n",
    "    'CULEX SALINARIUS': 0,\n",
    "    'CULEX TARSALIS': 0,\n",
    "    'CULEX ERRATICUS': 0,\n",
    "    'UNSPECIFIED CULEX':1\n",
    "}\n",
    "\n",
    "df['WnvSpecies'] = df.Species.map(wnvspeciesmap)"
   ]
  },
  {
   "cell_type": "markdown",
   "metadata": {},
   "source": [
    "## Extract Month from Date"
   ]
  },
  {
   "cell_type": "code",
   "execution_count": 86,
   "metadata": {},
   "outputs": [],
   "source": [
    "df['Month'] = df.Date.str[5:7]"
   ]
  },
  {
   "cell_type": "markdown",
   "metadata": {},
   "source": [
    "## One-hot encoding"
   ]
  },
  {
   "cell_type": "code",
   "execution_count": 87,
   "metadata": {},
   "outputs": [],
   "source": [
    "df = pd.get_dummies(df, columns=['Month', 'Species'])"
   ]
  },
  {
   "cell_type": "markdown",
   "metadata": {},
   "source": [
    "## Drop Unnecessary Columns"
   ]
  },
  {
   "cell_type": "code",
   "execution_count": 88,
   "metadata": {},
   "outputs": [],
   "source": [
    "cols_drop = ['Address','Block','Street','Trap','AddressNumberAndStreet','AddressAccuracy','Date']\n",
    "df = df.drop(labels=cols_drop, axis=1)"
   ]
  },
  {
   "cell_type": "markdown",
   "metadata": {},
   "source": [
    "## Split X and y Variables"
   ]
  },
  {
   "cell_type": "code",
   "execution_count": 89,
   "metadata": {},
   "outputs": [],
   "source": [
    "target = 'WnvPresent'\n",
    "features = [col for col in df.columns if col != target]\n",
    "y = df[target]\n",
    "X = df[features]"
   ]
  },
  {
   "cell_type": "markdown",
   "metadata": {},
   "source": [
    "## Export X and y Variables"
   ]
  },
  {
   "cell_type": "code",
   "execution_count": 90,
   "metadata": {},
   "outputs": [],
   "source": [
    "with open('../Cleansed_Data/X.pkl','wb') as f:\n",
    "    pickle.dump(X, f)\n",
    "    \n",
    "with open('../Cleansed_Data/y.pkl','wb') as f:\n",
    "    pickle.dump(y, f)"
   ]
  }
 ],
 "metadata": {
  "kernelspec": {
   "display_name": "Python 3",
   "language": "python",
   "name": "python3"
  },
  "language_info": {
   "codemirror_mode": {
    "name": "ipython",
    "version": 3
   },
   "file_extension": ".py",
   "mimetype": "text/x-python",
   "name": "python",
   "nbconvert_exporter": "python",
   "pygments_lexer": "ipython3",
   "version": "3.6.5"
  }
 },
 "nbformat": 4,
 "nbformat_minor": 2
}
