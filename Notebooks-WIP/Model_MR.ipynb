{
 "cells": [
  {
   "cell_type": "markdown",
   "metadata": {},
   "source": [
    "# 03 Build Models"
   ]
  },
  {
   "cell_type": "markdown",
   "metadata": {},
   "source": [
    "## Imports"
   ]
  },
  {
   "cell_type": "markdown",
   "metadata": {},
   "source": [
    "* We want AUC ROC"
   ]
  },
  {
   "cell_type": "code",
   "execution_count": 1,
   "metadata": {},
   "outputs": [
    {
     "name": "stderr",
     "output_type": "stream",
     "text": [
      "Using TensorFlow backend.\n"
     ]
    }
   ],
   "source": [
    "import pandas as pd\n",
    "import numpy as np\n",
    "import pickle\n",
    "\n",
    "from sklearn.linear_model import LogisticRegression\n",
    "from sklearn.model_selection import train_test_split, cross_val_score, GridSearchCV\n",
    "from sklearn.metrics import confusion_matrix, roc_auc_score\n",
    "from sklearn.preprocessing import StandardScaler\n",
    "from sklearn.decomposition import PCA\n",
    "from sklearn.pipeline import Pipeline\n",
    "from sklearn import svm\n",
    "from sklearn.feature_extraction.text import TfidfVectorizer\n",
    "from sklearn.ensemble import RandomForestClassifier, AdaBoostClassifier\n",
    "\n",
    "\n",
    "\n",
    "\n",
    "\n",
    "from keras.models import Sequential\n",
    "from keras.layers import Dense, Dropout, Activation\n",
    "from keras.utils import to_categorical\n",
    "from keras.optimizers import Adam\n",
    "from keras.layers import Dropout\n",
    "from keras import regularizers\n",
    "\n",
    "\n",
    "\n",
    "import matplotlib.pyplot as plt\n",
    "import seaborn as sns\n",
    "%matplotlib inline"
   ]
  },
  {
   "cell_type": "markdown",
   "metadata": {},
   "source": [
    "# Functions"
   ]
  },
  {
   "cell_type": "code",
   "execution_count": 2,
   "metadata": {},
   "outputs": [],
   "source": [
    "def get_metrics(y_true, y_predict, print_scores = True):\n",
    "    matrix_def = [['tn','fp'], ['fn','tp']]\n",
    "    matrix = confusion_matrix(y_true, y_predict)\n",
    "    tn, fp, fn, tp = matrix.ravel()\n",
    "    accuracy = (tp+tn)/(tn+fp+fn+tp)\n",
    "    misclass = 1-accuracy\n",
    "    sensitivity = tp/(tp+fn)\n",
    "    specificity = tn/(tn+fp)\n",
    "    precision = tp/(tp+fp)\n",
    "    if print_scores:\n",
    "        print('Matrix Definition')\n",
    "        print(np.array(matrix_def))\n",
    "        print('')\n",
    "        print('Confusion Matrix')\n",
    "        print(matrix)\n",
    "        print('')\n",
    "        print('METRICS')\n",
    "        print('accuracy:', accuracy)\n",
    "        print('misclass:', misclass)\n",
    "        print('sensitivity:', sensitivity)\n",
    "        print('specificity:', specificity)\n",
    "    else:\n",
    "        return accuracy, misclass, sensitivity, specificity, precision"
   ]
  },
  {
   "cell_type": "markdown",
   "metadata": {},
   "source": [
    "## Read in Train and Test Data"
   ]
  },
  {
   "cell_type": "code",
   "execution_count": 3,
   "metadata": {},
   "outputs": [],
   "source": [
    "with open('../Cleansed_Data/X_train_ss.pkl','rb') as f:\n",
    "    X_train_ss = pickle.load(f)\n",
    "    \n",
    "with open('../Cleansed_Data/X_test_ss.pkl','rb') as f:\n",
    "    X_test_ss = pickle.load(f)\n",
    "    \n",
    "with open('../Cleansed_Data/y_train.pkl','rb') as f:\n",
    "    y_train = pickle.load(f)\n",
    "    \n",
    "with open('../Cleansed_Data/y_test.pkl','rb') as f:\n",
    "    y_test = pickle.load(f)"
   ]
  },
  {
   "cell_type": "markdown",
   "metadata": {},
   "source": [
    "## Import Kaggle Test Data"
   ]
  },
  {
   "cell_type": "code",
   "execution_count": 4,
   "metadata": {
    "scrolled": true
   },
   "outputs": [],
   "source": [
    "kaggle_X = pd.read_csv('../Cleansed_Data/test_final.csv', index_col=0)"
   ]
  },
  {
   "cell_type": "code",
   "execution_count": 5,
   "metadata": {
    "scrolled": true
   },
   "outputs": [],
   "source": [
    "X_test_ss = pd.DataFrame(X_test_ss, columns=X_train_ss.columns)"
   ]
  },
  {
   "cell_type": "code",
   "execution_count": 6,
   "metadata": {},
   "outputs": [],
   "source": [
    "X_train_ss.drop('NumMosquitos', 1, inplace=True)"
   ]
  },
  {
   "cell_type": "code",
   "execution_count": 7,
   "metadata": {
    "scrolled": true
   },
   "outputs": [],
   "source": [
    "X_test_ss.drop('NumMosquitos', 1, inplace=True)"
   ]
  },
  {
   "cell_type": "code",
   "execution_count": 8,
   "metadata": {},
   "outputs": [],
   "source": [
    "kaggle_X.drop('NumMosquitos', 1, inplace=True)"
   ]
  },
  {
   "cell_type": "code",
   "execution_count": 9,
   "metadata": {},
   "outputs": [],
   "source": [
    "rf_tf_pipe = Pipeline([\n",
    "    ('pca', PCA()),\n",
    "    ('rf', RandomForestClassifier(n_estimators=100, max_depth=15, min_samples_leaf=3))\n",
    "])"
   ]
  },
  {
   "cell_type": "code",
   "execution_count": 10,
   "metadata": {},
   "outputs": [],
   "source": [
    "num_components = len(X_train_ss.columns)"
   ]
  },
  {
   "cell_type": "code",
   "execution_count": 11,
   "metadata": {},
   "outputs": [],
   "source": [
    "rf_tf_params = {\n",
    "    'pca__n_components': [81],\n",
    "}"
   ]
  },
  {
   "cell_type": "code",
   "execution_count": 12,
   "metadata": {},
   "outputs": [],
   "source": [
    "grid = GridSearchCV(rf_tf_pipe, \n",
    "                    rf_tf_params,\n",
    "                        n_jobs=3,)"
   ]
  },
  {
   "cell_type": "code",
   "execution_count": 13,
   "metadata": {},
   "outputs": [
    {
     "data": {
      "text/plain": [
       "GridSearchCV(cv=None, error_score='raise',\n",
       "       estimator=Pipeline(memory=None,\n",
       "     steps=[('pca', PCA(copy=True, iterated_power='auto', n_components=None, random_state=None,\n",
       "  svd_solver='auto', tol=0.0, whiten=False)), ('rf', RandomForestClassifier(bootstrap=True, class_weight=None, criterion='gini',\n",
       "            max_depth=15, max_features='auto', max_leaf_nodes=None,\n",
       "            ...n_jobs=1,\n",
       "            oob_score=False, random_state=None, verbose=0,\n",
       "            warm_start=False))]),\n",
       "       fit_params=None, iid=True, n_jobs=3,\n",
       "       param_grid={'pca__n_components': [81]}, pre_dispatch='2*n_jobs',\n",
       "       refit=True, return_train_score='warn', scoring=None, verbose=0)"
      ]
     },
     "execution_count": 13,
     "metadata": {},
     "output_type": "execute_result"
    }
   ],
   "source": [
    "grid.fit(X_train_ss, y_train)"
   ]
  },
  {
   "cell_type": "code",
   "execution_count": 14,
   "metadata": {},
   "outputs": [
    {
     "data": {
      "text/plain": [
       "0.6207417941399077"
      ]
     },
     "execution_count": 14,
     "metadata": {},
     "output_type": "execute_result"
    }
   ],
   "source": [
    "roc_auc_score(y_train, grid.predict(X_train_ss))"
   ]
  },
  {
   "cell_type": "code",
   "execution_count": 15,
   "metadata": {},
   "outputs": [
    {
     "data": {
      "text/plain": [
       "0.5284573653585335"
      ]
     },
     "execution_count": 15,
     "metadata": {},
     "output_type": "execute_result"
    }
   ],
   "source": [
    "roc_auc_score(y_test, grid.predict(X_test_ss))"
   ]
  },
  {
   "cell_type": "code",
   "execution_count": 16,
   "metadata": {},
   "outputs": [
    {
     "data": {
      "text/plain": [
       "{'pca__n_components': 81}"
      ]
     },
     "execution_count": 16,
     "metadata": {},
     "output_type": "execute_result"
    }
   ],
   "source": [
    "grid.best_params_"
   ]
  },
  {
   "cell_type": "markdown",
   "metadata": {},
   "source": [
    "## Make prediction for Kaggle"
   ]
  },
  {
   "cell_type": "code",
   "execution_count": 17,
   "metadata": {},
   "outputs": [
    {
     "data": {
      "text/html": [
       "<div>\n",
       "<style scoped>\n",
       "    .dataframe tbody tr th:only-of-type {\n",
       "        vertical-align: middle;\n",
       "    }\n",
       "\n",
       "    .dataframe tbody tr th {\n",
       "        vertical-align: top;\n",
       "    }\n",
       "\n",
       "    .dataframe thead th {\n",
       "        text-align: right;\n",
       "    }\n",
       "</style>\n",
       "<table border=\"1\" class=\"dataframe\">\n",
       "  <thead>\n",
       "    <tr style=\"text-align: right;\">\n",
       "      <th></th>\n",
       "      <th>Latitude</th>\n",
       "      <th>Longitude</th>\n",
       "      <th>BR</th>\n",
       "      <th>HZ</th>\n",
       "      <th>RA</th>\n",
       "      <th>TSRA</th>\n",
       "      <th>VCTS</th>\n",
       "      <th>FU</th>\n",
       "      <th>TS</th>\n",
       "      <th>DZ</th>\n",
       "      <th>...</th>\n",
       "      <th>Month_09</th>\n",
       "      <th>Month_10</th>\n",
       "      <th>Species_CULEX ERRATICUS</th>\n",
       "      <th>Species_CULEX PIPIENS</th>\n",
       "      <th>Species_CULEX PIPIENS/RESTUANS</th>\n",
       "      <th>Species_CULEX RESTUANS</th>\n",
       "      <th>Species_CULEX SALINARIUS</th>\n",
       "      <th>Species_CULEX TARSALIS</th>\n",
       "      <th>Species_CULEX TERRITANS</th>\n",
       "      <th>Month_05</th>\n",
       "    </tr>\n",
       "    <tr>\n",
       "      <th>Id</th>\n",
       "      <th></th>\n",
       "      <th></th>\n",
       "      <th></th>\n",
       "      <th></th>\n",
       "      <th></th>\n",
       "      <th></th>\n",
       "      <th></th>\n",
       "      <th></th>\n",
       "      <th></th>\n",
       "      <th></th>\n",
       "      <th></th>\n",
       "      <th></th>\n",
       "      <th></th>\n",
       "      <th></th>\n",
       "      <th></th>\n",
       "      <th></th>\n",
       "      <th></th>\n",
       "      <th></th>\n",
       "      <th></th>\n",
       "      <th></th>\n",
       "      <th></th>\n",
       "    </tr>\n",
       "  </thead>\n",
       "  <tbody>\n",
       "    <tr>\n",
       "      <th>1</th>\n",
       "      <td>1.033507</td>\n",
       "      <td>-1.257471</td>\n",
       "      <td>-0.204456</td>\n",
       "      <td>-0.725293</td>\n",
       "      <td>-0.496999</td>\n",
       "      <td>-0.751752</td>\n",
       "      <td>-0.484906</td>\n",
       "      <td>-0.241767</td>\n",
       "      <td>0.0</td>\n",
       "      <td>-0.379729</td>\n",
       "      <td>...</td>\n",
       "      <td>-0.572506</td>\n",
       "      <td>-0.696702</td>\n",
       "      <td>-0.545837</td>\n",
       "      <td>-0.179780</td>\n",
       "      <td>79.718254</td>\n",
       "      <td>-0.549235</td>\n",
       "      <td>-0.909952</td>\n",
       "      <td>-0.625148</td>\n",
       "      <td>-0.093428</td>\n",
       "      <td>-0.021731</td>\n",
       "    </tr>\n",
       "    <tr>\n",
       "      <th>2</th>\n",
       "      <td>1.033507</td>\n",
       "      <td>-1.257471</td>\n",
       "      <td>-0.204456</td>\n",
       "      <td>-0.725293</td>\n",
       "      <td>-0.496999</td>\n",
       "      <td>-0.751752</td>\n",
       "      <td>-0.484906</td>\n",
       "      <td>-0.241767</td>\n",
       "      <td>0.0</td>\n",
       "      <td>-0.379729</td>\n",
       "      <td>...</td>\n",
       "      <td>-0.572506</td>\n",
       "      <td>-0.696702</td>\n",
       "      <td>-0.545837</td>\n",
       "      <td>-0.179780</td>\n",
       "      <td>-0.012544</td>\n",
       "      <td>1.820715</td>\n",
       "      <td>-0.909952</td>\n",
       "      <td>-0.625148</td>\n",
       "      <td>-0.093428</td>\n",
       "      <td>-0.021731</td>\n",
       "    </tr>\n",
       "    <tr>\n",
       "      <th>3</th>\n",
       "      <td>1.033507</td>\n",
       "      <td>-1.257471</td>\n",
       "      <td>-0.204456</td>\n",
       "      <td>-0.725293</td>\n",
       "      <td>-0.496999</td>\n",
       "      <td>-0.751752</td>\n",
       "      <td>-0.484906</td>\n",
       "      <td>-0.241767</td>\n",
       "      <td>0.0</td>\n",
       "      <td>-0.379729</td>\n",
       "      <td>...</td>\n",
       "      <td>-0.572506</td>\n",
       "      <td>-0.696702</td>\n",
       "      <td>-0.545837</td>\n",
       "      <td>5.562346</td>\n",
       "      <td>-0.012544</td>\n",
       "      <td>-0.549235</td>\n",
       "      <td>-0.909952</td>\n",
       "      <td>-0.625148</td>\n",
       "      <td>-0.093428</td>\n",
       "      <td>-0.021731</td>\n",
       "    </tr>\n",
       "    <tr>\n",
       "      <th>4</th>\n",
       "      <td>1.033507</td>\n",
       "      <td>-1.257471</td>\n",
       "      <td>-0.204456</td>\n",
       "      <td>-0.725293</td>\n",
       "      <td>-0.496999</td>\n",
       "      <td>-0.751752</td>\n",
       "      <td>-0.484906</td>\n",
       "      <td>-0.241767</td>\n",
       "      <td>0.0</td>\n",
       "      <td>-0.379729</td>\n",
       "      <td>...</td>\n",
       "      <td>-0.572506</td>\n",
       "      <td>-0.696702</td>\n",
       "      <td>-0.545837</td>\n",
       "      <td>-0.179780</td>\n",
       "      <td>-0.012544</td>\n",
       "      <td>-0.549235</td>\n",
       "      <td>1.098959</td>\n",
       "      <td>-0.625148</td>\n",
       "      <td>-0.093428</td>\n",
       "      <td>-0.021731</td>\n",
       "    </tr>\n",
       "    <tr>\n",
       "      <th>5</th>\n",
       "      <td>1.033507</td>\n",
       "      <td>-1.257471</td>\n",
       "      <td>-0.204456</td>\n",
       "      <td>-0.725293</td>\n",
       "      <td>-0.496999</td>\n",
       "      <td>-0.751752</td>\n",
       "      <td>-0.484906</td>\n",
       "      <td>-0.241767</td>\n",
       "      <td>0.0</td>\n",
       "      <td>-0.379729</td>\n",
       "      <td>...</td>\n",
       "      <td>-0.572506</td>\n",
       "      <td>-0.696702</td>\n",
       "      <td>-0.545837</td>\n",
       "      <td>-0.179780</td>\n",
       "      <td>-0.012544</td>\n",
       "      <td>-0.549235</td>\n",
       "      <td>-0.909952</td>\n",
       "      <td>-0.625148</td>\n",
       "      <td>10.703440</td>\n",
       "      <td>-0.021731</td>\n",
       "    </tr>\n",
       "  </tbody>\n",
       "</table>\n",
       "<p>5 rows × 166 columns</p>\n",
       "</div>"
      ],
      "text/plain": [
       "    Latitude  Longitude        BR        HZ        RA      TSRA      VCTS  \\\n",
       "Id                                                                          \n",
       "1   1.033507  -1.257471 -0.204456 -0.725293 -0.496999 -0.751752 -0.484906   \n",
       "2   1.033507  -1.257471 -0.204456 -0.725293 -0.496999 -0.751752 -0.484906   \n",
       "3   1.033507  -1.257471 -0.204456 -0.725293 -0.496999 -0.751752 -0.484906   \n",
       "4   1.033507  -1.257471 -0.204456 -0.725293 -0.496999 -0.751752 -0.484906   \n",
       "5   1.033507  -1.257471 -0.204456 -0.725293 -0.496999 -0.751752 -0.484906   \n",
       "\n",
       "          FU   TS        DZ    ...     Month_09  Month_10  \\\n",
       "Id                             ...                          \n",
       "1  -0.241767  0.0 -0.379729    ...    -0.572506 -0.696702   \n",
       "2  -0.241767  0.0 -0.379729    ...    -0.572506 -0.696702   \n",
       "3  -0.241767  0.0 -0.379729    ...    -0.572506 -0.696702   \n",
       "4  -0.241767  0.0 -0.379729    ...    -0.572506 -0.696702   \n",
       "5  -0.241767  0.0 -0.379729    ...    -0.572506 -0.696702   \n",
       "\n",
       "    Species_CULEX ERRATICUS  Species_CULEX PIPIENS  \\\n",
       "Id                                                   \n",
       "1                 -0.545837              -0.179780   \n",
       "2                 -0.545837              -0.179780   \n",
       "3                 -0.545837               5.562346   \n",
       "4                 -0.545837              -0.179780   \n",
       "5                 -0.545837              -0.179780   \n",
       "\n",
       "    Species_CULEX PIPIENS/RESTUANS  Species_CULEX RESTUANS  \\\n",
       "Id                                                           \n",
       "1                        79.718254               -0.549235   \n",
       "2                        -0.012544                1.820715   \n",
       "3                        -0.012544               -0.549235   \n",
       "4                        -0.012544               -0.549235   \n",
       "5                        -0.012544               -0.549235   \n",
       "\n",
       "    Species_CULEX SALINARIUS  Species_CULEX TARSALIS  Species_CULEX TERRITANS  \\\n",
       "Id                                                                              \n",
       "1                  -0.909952               -0.625148                -0.093428   \n",
       "2                  -0.909952               -0.625148                -0.093428   \n",
       "3                  -0.909952               -0.625148                -0.093428   \n",
       "4                   1.098959               -0.625148                -0.093428   \n",
       "5                  -0.909952               -0.625148                10.703440   \n",
       "\n",
       "    Month_05  \n",
       "Id            \n",
       "1  -0.021731  \n",
       "2  -0.021731  \n",
       "3  -0.021731  \n",
       "4  -0.021731  \n",
       "5  -0.021731  \n",
       "\n",
       "[5 rows x 166 columns]"
      ]
     },
     "execution_count": 17,
     "metadata": {},
     "output_type": "execute_result"
    }
   ],
   "source": [
    "kaggle_X.head()"
   ]
  },
  {
   "cell_type": "code",
   "execution_count": 18,
   "metadata": {},
   "outputs": [],
   "source": [
    "rf_pred_proba = grid.predict_proba(kaggle_X)"
   ]
  },
  {
   "cell_type": "code",
   "execution_count": 19,
   "metadata": {},
   "outputs": [
    {
     "data": {
      "text/plain": [
       "array([[0.53756999, 0.46243001],\n",
       "       [0.62062951, 0.37937049],\n",
       "       [0.62272475, 0.37727525],\n",
       "       ...,\n",
       "       [0.57692316, 0.42307684],\n",
       "       [0.57422475, 0.42577525],\n",
       "       [0.56218418, 0.43781582]])"
      ]
     },
     "execution_count": 19,
     "metadata": {},
     "output_type": "execute_result"
    }
   ],
   "source": [
    "rf_pred_proba"
   ]
  },
  {
   "cell_type": "code",
   "execution_count": 20,
   "metadata": {},
   "outputs": [
    {
     "data": {
      "text/html": [
       "<div>\n",
       "<style scoped>\n",
       "    .dataframe tbody tr th:only-of-type {\n",
       "        vertical-align: middle;\n",
       "    }\n",
       "\n",
       "    .dataframe tbody tr th {\n",
       "        vertical-align: top;\n",
       "    }\n",
       "\n",
       "    .dataframe thead th {\n",
       "        text-align: right;\n",
       "    }\n",
       "</style>\n",
       "<table border=\"1\" class=\"dataframe\">\n",
       "  <thead>\n",
       "    <tr style=\"text-align: right;\">\n",
       "      <th></th>\n",
       "      <th>WnvPresent</th>\n",
       "    </tr>\n",
       "    <tr>\n",
       "      <th>Id</th>\n",
       "      <th></th>\n",
       "    </tr>\n",
       "  </thead>\n",
       "  <tbody>\n",
       "    <tr>\n",
       "      <th>1</th>\n",
       "      <td>0.462430</td>\n",
       "    </tr>\n",
       "    <tr>\n",
       "      <th>2</th>\n",
       "      <td>0.379370</td>\n",
       "    </tr>\n",
       "    <tr>\n",
       "      <th>3</th>\n",
       "      <td>0.377275</td>\n",
       "    </tr>\n",
       "    <tr>\n",
       "      <th>4</th>\n",
       "      <td>0.397347</td>\n",
       "    </tr>\n",
       "    <tr>\n",
       "      <th>5</th>\n",
       "      <td>0.362308</td>\n",
       "    </tr>\n",
       "  </tbody>\n",
       "</table>\n",
       "</div>"
      ],
      "text/plain": [
       "    WnvPresent\n",
       "Id            \n",
       "1     0.462430\n",
       "2     0.379370\n",
       "3     0.377275\n",
       "4     0.397347\n",
       "5     0.362308"
      ]
     },
     "execution_count": 20,
     "metadata": {},
     "output_type": "execute_result"
    }
   ],
   "source": [
    "submission_df = pd.DataFrame([prob[1] for prob in rf_pred_proba], columns=['WnvPresent'], index=kaggle_X.index)\n",
    "submission_df.head()"
   ]
  },
  {
   "cell_type": "code",
   "execution_count": null,
   "metadata": {},
   "outputs": [],
   "source": []
  },
  {
   "cell_type": "code",
   "execution_count": 21,
   "metadata": {},
   "outputs": [],
   "source": [
    "submission_df.to_csv('../Cleansed_Data/tired_submission.csv')"
   ]
  },
  {
   "cell_type": "code",
   "execution_count": null,
   "metadata": {},
   "outputs": [],
   "source": []
  }
 ],
 "metadata": {
  "kernelspec": {
   "display_name": "Python 3",
   "language": "python",
   "name": "python3"
  },
  "language_info": {
   "codemirror_mode": {
    "name": "ipython",
    "version": 3
   },
   "file_extension": ".py",
   "mimetype": "text/x-python",
   "name": "python",
   "nbconvert_exporter": "python",
   "pygments_lexer": "ipython3",
   "version": "3.5.5"
  }
 },
 "nbformat": 4,
 "nbformat_minor": 2
}
